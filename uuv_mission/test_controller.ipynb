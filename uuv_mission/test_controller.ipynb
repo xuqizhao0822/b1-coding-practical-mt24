{
 "cells": [
  {
   "cell_type": "code",
   "execution_count": 10,
   "id": "65f137dd",
   "metadata": {},
   "outputs": [
    {
     "ename": "ImportError",
     "evalue": "cannot import name 'PDController' from 'control' (c:\\Users\\zhaox\\b1-coding-practical-mt24\\b1-coding-practical-mt24\\uuv_mission\\control.py)",
     "output_type": "error",
     "traceback": [
      "\u001b[31m---------------------------------------------------------------------------\u001b[39m",
      "\u001b[31mImportError\u001b[39m                               Traceback (most recent call last)",
      "\u001b[36mCell\u001b[39m\u001b[36m \u001b[39m\u001b[32mIn[10]\u001b[39m\u001b[32m, line 4\u001b[39m\n\u001b[32m      2\u001b[39m \u001b[38;5;28;01mimport\u001b[39;00m\u001b[38;5;250m \u001b[39m\u001b[34;01mmatplotlib\u001b[39;00m\u001b[34;01m.\u001b[39;00m\u001b[34;01mpyplot\u001b[39;00m\u001b[38;5;250m \u001b[39m\u001b[38;5;28;01mas\u001b[39;00m\u001b[38;5;250m \u001b[39m\u001b[34;01mplt\u001b[39;00m\n\u001b[32m      3\u001b[39m \u001b[38;5;28;01mfrom\u001b[39;00m\u001b[38;5;250m \u001b[39m\u001b[34;01mdynamic\u001b[39;00m\u001b[38;5;250m \u001b[39m\u001b[38;5;28;01mimport\u001b[39;00m Submarine, Mission, ClosedLoop\n\u001b[32m----> \u001b[39m\u001b[32m4\u001b[39m \u001b[38;5;28;01mfrom\u001b[39;00m\u001b[38;5;250m \u001b[39m\u001b[34;01mcontrol\u001b[39;00m\u001b[38;5;250m \u001b[39m\u001b[38;5;28;01mimport\u001b[39;00m PDController\n",
      "\u001b[31mImportError\u001b[39m: cannot import name 'PDController' from 'control' (c:\\Users\\zhaox\\b1-coding-practical-mt24\\b1-coding-practical-mt24\\uuv_mission\\control.py)"
     ]
    }
   ],
   "source": [
    "import numpy as np\n",
    "import matplotlib.pyplot as plt\n",
    "from dynamic import Submarine, Mission, ClosedLoop\n",
    "from control import PDController"
   ]
  },
  {
   "cell_type": "code",
   "execution_count": null,
   "id": "6a93d3e5",
   "metadata": {},
   "outputs": [],
   "source": [
    "mission = Mission.from_csv('mission.csv')"
   ]
  },
  {
   "cell_type": "code",
   "execution_count": null,
   "id": "f8ca09cf",
   "metadata": {},
   "outputs": [],
   "source": [
    "submarine = Submarine()\n",
    "controller = PDController(kp=0.15, kd=0.6)"
   ]
  },
  {
   "cell_type": "code",
   "execution_count": null,
   "id": "ae0d1be3",
   "metadata": {},
   "outputs": [],
   "source": [
    "closed_loop = ClosedLoop(submarine, controller)"
   ]
  },
  {
   "cell_type": "code",
   "execution_count": null,
   "id": "f1c4f8c2",
   "metadata": {},
   "outputs": [],
   "source": [
    "trajectory = closed_loop.simulate_with_random_disturbances(mission, variance=0.5)"
   ]
  },
  {
   "cell_type": "code",
   "execution_count": null,
   "id": "88e29905",
   "metadata": {},
   "outputs": [],
   "source": [
    "trajectory.plot_completed_mission(mission)\n",
    "plt.xlabel('Horizontal Position')\n",
    "plt.ylabel('Depth')\n",
    "plt.title('UUV Mission Trajectory with PD Controller')\n",
    "plt.grid(True)\n",
    "plt.show()"
   ]
  },
  {
   "cell_type": "code",
   "execution_count": null,
   "id": "cf41091c",
   "metadata": {},
   "outputs": [],
   "source": [
    "controller2 = PDController(kp=0.20, kd=0.7)\n",
    "closed_loop2 = ClosedLoop(submarine, controller2)\n",
    "trajectory2 = closed_loop2.simulate_with_random_disturbances(mission, variance=0.5)\n",
    "trajectory2.plot_completed_mission(mission)"
   ]
  }
 ],
 "metadata": {
  "kernelspec": {
   "display_name": "venv (3.13.9)",
   "language": "python",
   "name": "python3"
  },
  "language_info": {
   "codemirror_mode": {
    "name": "ipython",
    "version": 3
   },
   "file_extension": ".py",
   "mimetype": "text/x-python",
   "name": "python",
   "nbconvert_exporter": "python",
   "pygments_lexer": "ipython3",
   "version": "3.13.9"
  }
 },
 "nbformat": 4,
 "nbformat_minor": 5
}
